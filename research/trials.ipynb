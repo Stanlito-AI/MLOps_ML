{
 "cells": [
  {
   "cell_type": "code",
   "execution_count": 3,
   "metadata": {},
   "outputs": [],
   "source": [
    "from mlhrtds.utils.common import read_yaml, create_directories"
   ]
  },
  {
   "cell_type": "code",
   "execution_count": 3,
   "metadata": {},
   "outputs": [],
   "source": [
    "import pandas as pd\n"
   ]
  },
  {
   "cell_type": "code",
   "execution_count": 4,
   "metadata": {},
   "outputs": [],
   "source": [
    "df = pd.read_csv(\"/home/anonymous/PycharmProjects/MLOps_heart_disease/artifacts/data_ingestion/data.csv\")"
   ]
  },
  {
   "cell_type": "code",
   "execution_count": 5,
   "metadata": {},
   "outputs": [],
   "source": [
    "# !pip install openpyxl"
   ]
  },
  {
   "cell_type": "code",
   "execution_count": 6,
   "metadata": {},
   "outputs": [
    {
     "data": {
      "text/html": [
       "<div>\n",
       "<style scoped>\n",
       "    .dataframe tbody tr th:only-of-type {\n",
       "        vertical-align: middle;\n",
       "    }\n",
       "\n",
       "    .dataframe tbody tr th {\n",
       "        vertical-align: top;\n",
       "    }\n",
       "\n",
       "    .dataframe thead th {\n",
       "        text-align: right;\n",
       "    }\n",
       "</style>\n",
       "<table border=\"1\" class=\"dataframe\">\n",
       "  <thead>\n",
       "    <tr style=\"text-align: right;\">\n",
       "      <th></th>\n",
       "      <th>age</th>\n",
       "      <th>sex</th>\n",
       "      <th>cp</th>\n",
       "      <th>trestbps</th>\n",
       "      <th>chol</th>\n",
       "      <th>fbs</th>\n",
       "      <th>restecg</th>\n",
       "      <th>thalach</th>\n",
       "      <th>exang</th>\n",
       "      <th>oldpeak</th>\n",
       "      <th>slope</th>\n",
       "      <th>ca</th>\n",
       "      <th>thal</th>\n",
       "      <th>num</th>\n",
       "    </tr>\n",
       "  </thead>\n",
       "  <tbody>\n",
       "    <tr>\n",
       "      <th>0</th>\n",
       "      <td>28</td>\n",
       "      <td>1</td>\n",
       "      <td>2</td>\n",
       "      <td>130</td>\n",
       "      <td>132</td>\n",
       "      <td>0</td>\n",
       "      <td>2</td>\n",
       "      <td>185</td>\n",
       "      <td>0</td>\n",
       "      <td>0.0</td>\n",
       "      <td>?</td>\n",
       "      <td>?</td>\n",
       "      <td>?</td>\n",
       "      <td>0</td>\n",
       "    </tr>\n",
       "    <tr>\n",
       "      <th>1</th>\n",
       "      <td>29</td>\n",
       "      <td>1</td>\n",
       "      <td>2</td>\n",
       "      <td>120</td>\n",
       "      <td>243</td>\n",
       "      <td>0</td>\n",
       "      <td>0</td>\n",
       "      <td>160</td>\n",
       "      <td>0</td>\n",
       "      <td>0.0</td>\n",
       "      <td>?</td>\n",
       "      <td>?</td>\n",
       "      <td>?</td>\n",
       "      <td>0</td>\n",
       "    </tr>\n",
       "    <tr>\n",
       "      <th>2</th>\n",
       "      <td>29</td>\n",
       "      <td>1</td>\n",
       "      <td>2</td>\n",
       "      <td>140</td>\n",
       "      <td>?</td>\n",
       "      <td>0</td>\n",
       "      <td>0</td>\n",
       "      <td>170</td>\n",
       "      <td>0</td>\n",
       "      <td>0.0</td>\n",
       "      <td>?</td>\n",
       "      <td>?</td>\n",
       "      <td>?</td>\n",
       "      <td>0</td>\n",
       "    </tr>\n",
       "    <tr>\n",
       "      <th>3</th>\n",
       "      <td>30</td>\n",
       "      <td>0</td>\n",
       "      <td>1</td>\n",
       "      <td>170</td>\n",
       "      <td>237</td>\n",
       "      <td>0</td>\n",
       "      <td>1</td>\n",
       "      <td>170</td>\n",
       "      <td>0</td>\n",
       "      <td>0.0</td>\n",
       "      <td>?</td>\n",
       "      <td>?</td>\n",
       "      <td>6</td>\n",
       "      <td>0</td>\n",
       "    </tr>\n",
       "    <tr>\n",
       "      <th>4</th>\n",
       "      <td>31</td>\n",
       "      <td>0</td>\n",
       "      <td>2</td>\n",
       "      <td>100</td>\n",
       "      <td>219</td>\n",
       "      <td>0</td>\n",
       "      <td>1</td>\n",
       "      <td>150</td>\n",
       "      <td>0</td>\n",
       "      <td>0.0</td>\n",
       "      <td>?</td>\n",
       "      <td>?</td>\n",
       "      <td>?</td>\n",
       "      <td>0</td>\n",
       "    </tr>\n",
       "  </tbody>\n",
       "</table>\n",
       "</div>"
      ],
      "text/plain": [
       "   age  sex  cp trestbps chol fbs restecg thalach exang  oldpeak slope ca  \\\n",
       "0   28    1   2      130  132   0       2     185     0      0.0     ?  ?   \n",
       "1   29    1   2      120  243   0       0     160     0      0.0     ?  ?   \n",
       "2   29    1   2      140    ?   0       0     170     0      0.0     ?  ?   \n",
       "3   30    0   1      170  237   0       1     170     0      0.0     ?  ?   \n",
       "4   31    0   2      100  219   0       1     150     0      0.0     ?  ?   \n",
       "\n",
       "  thal  num         \n",
       "0    ?           0  \n",
       "1    ?           0  \n",
       "2    ?           0  \n",
       "3    6           0  \n",
       "4    ?           0  "
      ]
     },
     "execution_count": 6,
     "metadata": {},
     "output_type": "execute_result"
    }
   ],
   "source": [
    "df.head()"
   ]
  },
  {
   "cell_type": "code",
   "execution_count": null,
   "metadata": {},
   "outputs": [],
   "source": []
  },
  {
   "cell_type": "code",
   "execution_count": 6,
   "metadata": {},
   "outputs": [
    {
     "data": {
      "text/plain": [
       "Index(['age', 'sex', 'bmi', 'children', 'smoker', 'region', 'charges'], dtype='object')"
      ]
     },
     "execution_count": 6,
     "metadata": {},
     "output_type": "execute_result"
    }
   ],
   "source": [
    "df.columns"
   ]
  },
  {
   "cell_type": "code",
   "execution_count": 7,
   "metadata": {},
   "outputs": [],
   "source": [
    "col = ['charges']"
   ]
  },
  {
   "cell_type": "code",
   "execution_count": 8,
   "metadata": {},
   "outputs": [],
   "source": [
    "X = df.drop(col, axis=1)\n",
    "y = df[col]"
   ]
  },
  {
   "cell_type": "code",
   "execution_count": 12,
   "metadata": {},
   "outputs": [
    {
     "data": {
      "text/html": [
       "<div>\n",
       "<style scoped>\n",
       "    .dataframe tbody tr th:only-of-type {\n",
       "        vertical-align: middle;\n",
       "    }\n",
       "\n",
       "    .dataframe tbody tr th {\n",
       "        vertical-align: top;\n",
       "    }\n",
       "\n",
       "    .dataframe thead th {\n",
       "        text-align: right;\n",
       "    }\n",
       "</style>\n",
       "<table border=\"1\" class=\"dataframe\">\n",
       "  <thead>\n",
       "    <tr style=\"text-align: right;\">\n",
       "      <th></th>\n",
       "      <th>charges</th>\n",
       "    </tr>\n",
       "  </thead>\n",
       "  <tbody>\n",
       "    <tr>\n",
       "      <th>0</th>\n",
       "      <td>16884.92400</td>\n",
       "    </tr>\n",
       "    <tr>\n",
       "      <th>1</th>\n",
       "      <td>1725.55230</td>\n",
       "    </tr>\n",
       "    <tr>\n",
       "      <th>2</th>\n",
       "      <td>4449.46200</td>\n",
       "    </tr>\n",
       "    <tr>\n",
       "      <th>3</th>\n",
       "      <td>21984.47061</td>\n",
       "    </tr>\n",
       "    <tr>\n",
       "      <th>4</th>\n",
       "      <td>3866.85520</td>\n",
       "    </tr>\n",
       "    <tr>\n",
       "      <th>...</th>\n",
       "      <td>...</td>\n",
       "    </tr>\n",
       "    <tr>\n",
       "      <th>1333</th>\n",
       "      <td>10600.54830</td>\n",
       "    </tr>\n",
       "    <tr>\n",
       "      <th>1334</th>\n",
       "      <td>2205.98080</td>\n",
       "    </tr>\n",
       "    <tr>\n",
       "      <th>1335</th>\n",
       "      <td>1629.83350</td>\n",
       "    </tr>\n",
       "    <tr>\n",
       "      <th>1336</th>\n",
       "      <td>2007.94500</td>\n",
       "    </tr>\n",
       "    <tr>\n",
       "      <th>1337</th>\n",
       "      <td>29141.36030</td>\n",
       "    </tr>\n",
       "  </tbody>\n",
       "</table>\n",
       "<p>1338 rows × 1 columns</p>\n",
       "</div>"
      ],
      "text/plain": [
       "          charges\n",
       "0     16884.92400\n",
       "1      1725.55230\n",
       "2      4449.46200\n",
       "3     21984.47061\n",
       "4      3866.85520\n",
       "...           ...\n",
       "1333  10600.54830\n",
       "1334   2205.98080\n",
       "1335   1629.83350\n",
       "1336   2007.94500\n",
       "1337  29141.36030\n",
       "\n",
       "[1338 rows x 1 columns]"
      ]
     },
     "execution_count": 12,
     "metadata": {},
     "output_type": "execute_result"
    }
   ],
   "source": [
    "y"
   ]
  },
  {
   "cell_type": "code",
   "execution_count": 9,
   "metadata": {},
   "outputs": [
    {
     "data": {
      "text/html": [
       "<div>\n",
       "<style scoped>\n",
       "    .dataframe tbody tr th:only-of-type {\n",
       "        vertical-align: middle;\n",
       "    }\n",
       "\n",
       "    .dataframe tbody tr th {\n",
       "        vertical-align: top;\n",
       "    }\n",
       "\n",
       "    .dataframe thead th {\n",
       "        text-align: right;\n",
       "    }\n",
       "</style>\n",
       "<table border=\"1\" class=\"dataframe\">\n",
       "  <thead>\n",
       "    <tr style=\"text-align: right;\">\n",
       "      <th></th>\n",
       "      <th>age</th>\n",
       "      <th>bmi</th>\n",
       "      <th>children</th>\n",
       "      <th>charges</th>\n",
       "    </tr>\n",
       "  </thead>\n",
       "  <tbody>\n",
       "    <tr>\n",
       "      <th>count</th>\n",
       "      <td>1338.000000</td>\n",
       "      <td>1338.000000</td>\n",
       "      <td>1338.000000</td>\n",
       "      <td>1338.000000</td>\n",
       "    </tr>\n",
       "    <tr>\n",
       "      <th>mean</th>\n",
       "      <td>39.207025</td>\n",
       "      <td>30.663397</td>\n",
       "      <td>1.094918</td>\n",
       "      <td>13270.422265</td>\n",
       "    </tr>\n",
       "    <tr>\n",
       "      <th>std</th>\n",
       "      <td>14.049960</td>\n",
       "      <td>6.098187</td>\n",
       "      <td>1.205493</td>\n",
       "      <td>12110.011237</td>\n",
       "    </tr>\n",
       "    <tr>\n",
       "      <th>min</th>\n",
       "      <td>18.000000</td>\n",
       "      <td>15.960000</td>\n",
       "      <td>0.000000</td>\n",
       "      <td>1121.873900</td>\n",
       "    </tr>\n",
       "    <tr>\n",
       "      <th>25%</th>\n",
       "      <td>27.000000</td>\n",
       "      <td>26.296250</td>\n",
       "      <td>0.000000</td>\n",
       "      <td>4740.287150</td>\n",
       "    </tr>\n",
       "    <tr>\n",
       "      <th>50%</th>\n",
       "      <td>39.000000</td>\n",
       "      <td>30.400000</td>\n",
       "      <td>1.000000</td>\n",
       "      <td>9382.033000</td>\n",
       "    </tr>\n",
       "    <tr>\n",
       "      <th>75%</th>\n",
       "      <td>51.000000</td>\n",
       "      <td>34.693750</td>\n",
       "      <td>2.000000</td>\n",
       "      <td>16639.912515</td>\n",
       "    </tr>\n",
       "    <tr>\n",
       "      <th>max</th>\n",
       "      <td>64.000000</td>\n",
       "      <td>53.130000</td>\n",
       "      <td>5.000000</td>\n",
       "      <td>63770.428010</td>\n",
       "    </tr>\n",
       "  </tbody>\n",
       "</table>\n",
       "</div>"
      ],
      "text/plain": [
       "               age          bmi     children       charges\n",
       "count  1338.000000  1338.000000  1338.000000   1338.000000\n",
       "mean     39.207025    30.663397     1.094918  13270.422265\n",
       "std      14.049960     6.098187     1.205493  12110.011237\n",
       "min      18.000000    15.960000     0.000000   1121.873900\n",
       "25%      27.000000    26.296250     0.000000   4740.287150\n",
       "50%      39.000000    30.400000     1.000000   9382.033000\n",
       "75%      51.000000    34.693750     2.000000  16639.912515\n",
       "max      64.000000    53.130000     5.000000  63770.428010"
      ]
     },
     "execution_count": 9,
     "metadata": {},
     "output_type": "execute_result"
    }
   ],
   "source": [
    "df.describe()"
   ]
  },
  {
   "cell_type": "code",
   "execution_count": 10,
   "metadata": {},
   "outputs": [
    {
     "data": {
      "text/plain": [
       "age           int64\n",
       "sex          object\n",
       "bmi         float64\n",
       "children      int64\n",
       "smoker       object\n",
       "region       object\n",
       "dtype: object"
      ]
     },
     "execution_count": 10,
     "metadata": {},
     "output_type": "execute_result"
    }
   ],
   "source": [
    "X.dtypes"
   ]
  },
  {
   "cell_type": "code",
   "execution_count": 11,
   "metadata": {},
   "outputs": [],
   "source": [
    "# Create Column Transformer with 3 types of transformers\n",
    "num_features = X.select_dtypes(exclude=\"object\").columns\n",
    "cat_features = X.select_dtypes(include=\"object\").columns"
   ]
  },
  {
   "cell_type": "code",
   "execution_count": 7,
   "metadata": {},
   "outputs": [
    {
     "ename": "NameError",
     "evalue": "name 'y' is not defined",
     "output_type": "error",
     "traceback": [
      "\u001b[0;31m---------------------------------------------------------------------------\u001b[0m",
      "\u001b[0;31mNameError\u001b[0m                                 Traceback (most recent call last)",
      "Cell \u001b[0;32mIn[7], line 1\u001b[0m\n\u001b[0;32m----> 1\u001b[0m y\u001b[39m.\u001b[39mdtypes\n",
      "\u001b[0;31mNameError\u001b[0m: name 'y' is not defined"
     ]
    }
   ],
   "source": [
    "y.dtypes"
   ]
  },
  {
   "cell_type": "code",
   "execution_count": 14,
   "metadata": {},
   "outputs": [
    {
     "data": {
      "text/html": [
       "<div>\n",
       "<style scoped>\n",
       "    .dataframe tbody tr th:only-of-type {\n",
       "        vertical-align: middle;\n",
       "    }\n",
       "\n",
       "    .dataframe tbody tr th {\n",
       "        vertical-align: top;\n",
       "    }\n",
       "\n",
       "    .dataframe thead th {\n",
       "        text-align: right;\n",
       "    }\n",
       "</style>\n",
       "<table border=\"1\" class=\"dataframe\">\n",
       "  <thead>\n",
       "    <tr style=\"text-align: right;\">\n",
       "      <th></th>\n",
       "      <th>age</th>\n",
       "      <th>sex</th>\n",
       "      <th>bmi</th>\n",
       "      <th>children</th>\n",
       "      <th>smoker</th>\n",
       "      <th>region</th>\n",
       "      <th>charges</th>\n",
       "    </tr>\n",
       "  </thead>\n",
       "  <tbody>\n",
       "    <tr>\n",
       "      <th>0</th>\n",
       "      <td>19</td>\n",
       "      <td>female</td>\n",
       "      <td>27.900</td>\n",
       "      <td>0</td>\n",
       "      <td>yes</td>\n",
       "      <td>southwest</td>\n",
       "      <td>16884.92400</td>\n",
       "    </tr>\n",
       "    <tr>\n",
       "      <th>1</th>\n",
       "      <td>18</td>\n",
       "      <td>male</td>\n",
       "      <td>33.770</td>\n",
       "      <td>1</td>\n",
       "      <td>no</td>\n",
       "      <td>southeast</td>\n",
       "      <td>1725.55230</td>\n",
       "    </tr>\n",
       "    <tr>\n",
       "      <th>2</th>\n",
       "      <td>28</td>\n",
       "      <td>male</td>\n",
       "      <td>33.000</td>\n",
       "      <td>3</td>\n",
       "      <td>no</td>\n",
       "      <td>southeast</td>\n",
       "      <td>4449.46200</td>\n",
       "    </tr>\n",
       "    <tr>\n",
       "      <th>3</th>\n",
       "      <td>33</td>\n",
       "      <td>male</td>\n",
       "      <td>22.705</td>\n",
       "      <td>0</td>\n",
       "      <td>no</td>\n",
       "      <td>northwest</td>\n",
       "      <td>21984.47061</td>\n",
       "    </tr>\n",
       "    <tr>\n",
       "      <th>4</th>\n",
       "      <td>32</td>\n",
       "      <td>male</td>\n",
       "      <td>28.880</td>\n",
       "      <td>0</td>\n",
       "      <td>no</td>\n",
       "      <td>northwest</td>\n",
       "      <td>3866.85520</td>\n",
       "    </tr>\n",
       "  </tbody>\n",
       "</table>\n",
       "</div>"
      ],
      "text/plain": [
       "   age     sex     bmi  children smoker     region      charges\n",
       "0   19  female  27.900         0    yes  southwest  16884.92400\n",
       "1   18    male  33.770         1     no  southeast   1725.55230\n",
       "2   28    male  33.000         3     no  southeast   4449.46200\n",
       "3   33    male  22.705         0     no  northwest  21984.47061\n",
       "4   32    male  28.880         0     no  northwest   3866.85520"
      ]
     },
     "execution_count": 14,
     "metadata": {},
     "output_type": "execute_result"
    }
   ],
   "source": [
    "df.head()"
   ]
  },
  {
   "cell_type": "code",
   "execution_count": 12,
   "metadata": {},
   "outputs": [
    {
     "data": {
      "text/plain": [
       "Index(['age', 'bmi', 'children'], dtype='object')"
      ]
     },
     "execution_count": 12,
     "metadata": {},
     "output_type": "execute_result"
    }
   ],
   "source": [
    "num_features"
   ]
  },
  {
   "cell_type": "code",
   "execution_count": 13,
   "metadata": {},
   "outputs": [
    {
     "data": {
      "text/plain": [
       "Index(['sex', 'smoker', 'region'], dtype='object')"
      ]
     },
     "execution_count": 13,
     "metadata": {},
     "output_type": "execute_result"
    }
   ],
   "source": [
    "cat_features"
   ]
  },
  {
   "cell_type": "code",
   "execution_count": 15,
   "metadata": {},
   "outputs": [],
   "source": [
    "from sklearn.preprocessing import OneHotEncoder, StandardScaler\n",
    "from sklearn.compose import ColumnTransformer\n"
   ]
  },
  {
   "cell_type": "code",
   "execution_count": 16,
   "metadata": {},
   "outputs": [],
   "source": [
    "\n",
    "numeric_transformer = StandardScaler()\n",
    "oh_transformer = OneHotEncoder()\n",
    "\n",
    "preprocessor = ColumnTransformer(\n",
    "    [\n",
    "        (\"OneHotEncoder\", oh_transformer, cat_features),\n",
    "         (\"StandardScaler\", numeric_transformer, num_features),        \n",
    "    ]\n",
    ")"
   ]
  },
  {
   "cell_type": "code",
   "execution_count": 17,
   "metadata": {},
   "outputs": [
    {
     "data": {
      "text/plain": [
       "(1338, 6)"
      ]
     },
     "execution_count": 17,
     "metadata": {},
     "output_type": "execute_result"
    }
   ],
   "source": [
    "X.shape"
   ]
  },
  {
   "cell_type": "code",
   "execution_count": 18,
   "metadata": {},
   "outputs": [],
   "source": [
    "X = preprocessor.fit_transform(X)"
   ]
  },
  {
   "cell_type": "code",
   "execution_count": 19,
   "metadata": {},
   "outputs": [
    {
     "data": {
      "text/plain": [
       "(1338, 11)"
      ]
     },
     "execution_count": 19,
     "metadata": {},
     "output_type": "execute_result"
    }
   ],
   "source": [
    "X.shape"
   ]
  },
  {
   "cell_type": "code",
   "execution_count": 21,
   "metadata": {},
   "outputs": [
    {
     "data": {
      "text/plain": [
       "array([[ 1.        ,  0.        ,  0.        , ..., -1.43876426,\n",
       "        -0.45332   , -0.90861367],\n",
       "       [ 0.        ,  1.        ,  1.        , ..., -1.50996545,\n",
       "         0.5096211 , -0.07876719],\n",
       "       [ 0.        ,  1.        ,  1.        , ..., -0.79795355,\n",
       "         0.38330685,  1.58092576],\n",
       "       ...,\n",
       "       [ 1.        ,  0.        ,  1.        , ..., -1.50996545,\n",
       "         1.0148781 , -0.90861367],\n",
       "       [ 1.        ,  0.        ,  1.        , ..., -1.29636188,\n",
       "        -0.79781341, -0.90861367],\n",
       "       [ 1.        ,  0.        ,  0.        , ...,  1.55168573,\n",
       "        -0.26138796, -0.90861367]])"
      ]
     },
     "execution_count": 21,
     "metadata": {},
     "output_type": "execute_result"
    }
   ],
   "source": [
    "X"
   ]
  },
  {
   "cell_type": "code",
   "execution_count": 22,
   "metadata": {},
   "outputs": [
    {
     "data": {
      "text/plain": [
       "((1070, 11), (268, 11))"
      ]
     },
     "execution_count": 22,
     "metadata": {},
     "output_type": "execute_result"
    }
   ],
   "source": [
    "# separate dataset into train and test\n",
    "from sklearn.model_selection import train_test_split\n",
    "\n",
    "X_train, X_test, y_train, y_test = train_test_split(X,y,test_size=0.2,random_state=42)\n",
    "X_train.shape, X_test.shape"
   ]
  },
  {
   "cell_type": "code",
   "execution_count": 2,
   "metadata": {},
   "outputs": [],
   "source": [
    "import pandas as pd"
   ]
  },
  {
   "cell_type": "code",
   "execution_count": 21,
   "metadata": {},
   "outputs": [],
   "source": [
    "X_train = pd.read_csv(\"/home/anonymous/PycharmProjects/MLOps_heart_disease/artifacts/data_transformation/X_train.csv\")\n",
    "y_train = pd.read_csv(\"/home/anonymous/PycharmProjects/MLOps_heart_disease/artifacts/data_transformation/y_train.csv\")\n",
    "X_test = pd.read_csv(\"/home/anonymous/PycharmProjects/MLOps_heart_disease/artifacts/data_transformation/X_test.csv\")\n",
    "y_test = pd.read_csv(\"/home/anonymous/PycharmProjects/MLOps_heart_disease/artifacts/data_transformation/y_test.csv\")"
   ]
  },
  {
   "cell_type": "code",
   "execution_count": 22,
   "metadata": {},
   "outputs": [
    {
     "data": {
      "text/plain": [
       "((1003, 11), (1003, 1))"
      ]
     },
     "execution_count": 22,
     "metadata": {},
     "output_type": "execute_result"
    }
   ],
   "source": [
    "X_train.shape, y_train.shape"
   ]
  },
  {
   "cell_type": "code",
   "execution_count": 23,
   "metadata": {},
   "outputs": [
    {
     "name": "stdout",
     "output_type": "stream",
     "text": [
      "Printing column name:\n",
      "0\n",
      "\\/\\/\n",
      "\n",
      "Printing column unique values:\n",
      "[-1.08716652 -0.80210593  0.83699246  0.55193187  0.48066672  1.69217422\n",
      " -0.08945446 -1.01590137 -1.5147574   0.40940157  0.76572731 -0.37451505\n",
      " -1.44349225 -0.3032499   0.12434098 -1.3722271   0.26687128  0.05307584\n",
      " -0.23198475  1.47837878  0.69446216  0.33813643  1.26458334 -0.44578019\n",
      " -0.65957563 -1.30096196  1.19331819 -0.01818931  1.12205304  0.9082576\n",
      " -0.94463622  0.19560613  0.62319701  1.76343937  1.33584849  1.54964393\n",
      " -0.51704534  1.0507879  -1.22969681 -0.58831049  0.97952275 -1.15843166\n",
      "  1.62090907  1.40711363 -0.87337107 -0.1607196  -0.73084078]\n",
      "============================================================\n",
      "============================================================\n",
      "Printing column name:\n",
      "1\n",
      "\\/\\/\n",
      "\n",
      "Printing column unique values:\n",
      "[-1.14087456e+00 -6.65841523e-01  1.52879447e+00  9.26475874e-01\n",
      " -2.68178139e-01 -7.14093565e-01 -1.75733600e+00 -6.98286862e-01\n",
      " -6.17589481e-01 -6.60187207e-02 -4.76993012e-01 -3.73001542e-01\n",
      "  1.39468425e-01  5.30476354e-01 -4.61186309e-01 -5.84312210e-01\n",
      " -1.18330308e+00 -7.83975833e-01  5.78728397e-01  5.97862827e-01\n",
      "  1.27422335e+00  1.25592085e+00  4.80560449e-01 -6.47539024e-01\n",
      "  8.45609287e-02  4.63921813e-01 -8.72160600e-01 -1.09345445e+00\n",
      " -1.78229395e+00  9.93030415e-01 -9.84640595e-02 -1.95997483e-03\n",
      "  1.13529075e+00 -1.31474830e+00  4.71409199e-01 -1.70991589e+00\n",
      "  2.19433988e+00  2.06788626e+00 -1.06184104e+00 -2.18162120e+00\n",
      " -2.87312570e-01 -3.68009951e-01  3.59098411e-01 -5.18758807e-02\n",
      "  1.60949185e+00 -7.77320379e-01 -6.00950845e-01 -1.28313489e+00\n",
      "  4.79559310e-02 -9.51194118e-01  5.47114990e-01 -2.51539504e-01\n",
      "  1.30916449e+00  1.78336559e+00  6.96862707e-01  1.76173537e+00\n",
      " -5.02120172e-02 -1.13338717e+00 -3.52372454e-02 -1.14170649e+00\n",
      " -8.83807645e-01  2.36821362e+00 -1.35069057e-01 -3.82152791e-01\n",
      " -1.41624397e+00  1.07855018e-01 -4.84480398e-01  2.30980919e-01\n",
      "  2.88215004e-02  2.50049077e+00  9.44778373e-01 -1.53371556e-01\n",
      "  3.29148867e-01  1.71348332e+00 -2.71505867e-01  2.61030577e+00\n",
      "  9.13164966e-01 -2.08279052e-01 -1.24985762e+00 -9.76984003e-01\n",
      " -4.92799716e-01  1.73594548e+00 -9.19580711e-01 -8.01615607e-02\n",
      " -1.63254623e+00 -1.01358900e+00 -1.15668126e+00  1.39568539e+00\n",
      "  4.32308406e-01  3.97367272e-01 -7.93959015e-01 -5.67673575e-01\n",
      " -1.16766558e-01  7.96694519e-01  9.20483145e-02 -1.91540303e+00\n",
      " -1.31641216e+00  2.96534322e-02  7.98358383e-01 -8.67169010e-01\n",
      " -1.51607579e+00 -1.45052238e-01  3.40795912e-01 -9.03774007e-01\n",
      " -2.79190660e-03  1.56207174e+00  8.46610425e-01  8.13333154e-01\n",
      "  1.56706333e+00  5.97030896e-01 -6.50866751e-01  4.68913404e-01\n",
      "  5.23820900e-01  7.62416110e-02 -1.92472349e-01 -1.04603434e+00\n",
      "  1.64110526e+00 -1.29894160e+00 -1.39378182e+00  3.30580072e+00\n",
      " -1.29245535e-01  8.12332016e-02 -9.35387415e-01  5.03022606e-01\n",
      "  4.46282040e-02  1.47787743e-01 -1.76665645e-01  2.07953330e+00\n",
      " -2.03187348e+00  5.18829310e-01 -9.82807525e-01  1.81065013e-01\n",
      "  1.05625723e+00 -2.01623598e-01  7.40123159e-01  1.00883712e+00\n",
      "  1.30147969e-02 -1.85986101e-02  2.14442398e+00  1.89650831e+00\n",
      "  2.02695239e-01  1.51215584e+00  8.79887695e-01  1.42896266e+00\n",
      "  1.68852537e+00  6.04349075e-02  6.46946801e-01  9.29803601e-01\n",
      " -6.35060048e-01 -8.40547193e-01 -1.71674055e-01 -5.37724031e-01\n",
      " -1.03022764e+00  1.76839082e+00  1.31082835e+00  1.48303822e+00\n",
      " -2.10508348e+00  3.77400910e-01  1.95141581e+00 -5.08606419e-01\n",
      " -1.17248797e+00 -1.46615988e+00  4.14005907e-01  4.87215903e-01\n",
      " -9.67000822e-01  1.09618995e+00 -3.18925977e-01  3.76568978e-01\n",
      "  2.12678420e-01  8.98190194e-01 -9.40379005e-01 -1.21990808e+00\n",
      " -4.64514036e-01  7.08509752e-01 -3.51371316e-01 -5.01119033e-01\n",
      "  1.07206393e+00  4.08182385e-01 -6.29236525e-01  8.71568378e-01\n",
      " -4.01287222e-01  1.24593767e+00  1.57787845e+00  1.12946722e+00\n",
      " -1.44120193e+00  1.20101336e+00 -7.20749019e-01 -6.82480158e-01\n",
      " -3.54699043e-01  2.97535460e-01 -5.24413123e-01 -1.13438831e-01\n",
      "  3.80728637e-01  6.51938392e-01 -3.97959495e-01 -1.61757146e+00\n",
      "  7.80055884e-01 -1.88378963e+00 -1.42539522e+00 -1.36632807e+00\n",
      "  1.21165926e-01  1.40234084e+00  1.02464382e+00 -1.16000899e+00\n",
      " -9.83639457e-01 -8.87967304e-01 -6.03446641e-01  2.86654075e+00\n",
      "  1.79917230e+00 -1.59926896e+00  1.23661722e-01 -4.17925857e-01\n",
      "  8.66576787e-01  1.29252585e+00  1.62197083e+00  3.64090002e-01\n",
      " -1.21491649e+00  8.34963380e-01 -8.18254242e-02 -1.60858942e-01\n",
      "  1.16440836e+00 -1.37963898e+00  1.71081832e-01 -2.55699163e-01\n",
      " -1.21658035e+00 -3.34732681e-01  1.31149107e-01 -3.66346088e-01\n",
      "  9.63080872e-01 -1.51707692e-01  4.30644543e-01 -9.76321277e-02\n",
      " -5.71833233e-01  7.13501343e-01  2.50115350e-01  1.18271086e+00\n",
      " -3.84648586e-01 -1.45700863e+00  1.09119836e+00 -1.68246214e+00\n",
      "  1.47887857e+00  1.21266040e+00 -3.01455410e-01  1.67271867e+00\n",
      " -2.39892459e-01  1.38403834e+00 -5.56026530e-01 -1.72738645e+00\n",
      " -2.19992370e+00  6.33635893e-01  1.34576948e+00 -8.56353897e-01\n",
      " -6.34228116e-01  1.64027333e+00  6.15333394e-01  1.01798837e+00\n",
      " -4.46211537e-01 -3.03119274e-01 -7.45706972e-01 -2.18262234e-01\n",
      "  7.30139978e-01 -8.50530375e-01  1.14610586e+00 -1.23571478e+00\n",
      "  1.02963541e+00 -6.85145160e-02  2.59200327e+00 -1.01442093e+00\n",
      " -1.50442874e+00  4.39795792e-01  5.60425898e-01 -1.58096646e+00\n",
      "  1.10950086e+00 -4.82816535e-01  3.60762274e-01  3.22493413e-01\n",
      "  1.86888536e-01 -1.03355536e+00  1.15109745e+00  9.61417008e-01\n",
      " -7.29900269e-01 -8.24740490e-01  8.50770084e-01 -1.56266396e+00\n",
      "  1.49385334e+00 -1.12506786e+00 -1.47281533e+00 -2.63186549e-01\n",
      "  1.42064334e+00 -4.34564492e-01 -3.44053136e-02 -4.45379605e-01\n",
      " -2.42121755e+00 -3.91304041e-01  1.93311331e+00  1.65691196e+00\n",
      "  1.05459337e+00 -1.33055500e+00  7.71736566e-01  2.80896825e-01\n",
      " -1.08679900e+00 -1.40958852e+00 -7.67337198e-01  1.44560130e+00\n",
      " -1.43454647e+00 -4.29572902e-01 -1.84984963e-01  8.89870877e-01\n",
      " -2.18411699e+00 -7.93127083e-01 -1.93120974e+00 -1.68346328e-01\n",
      "  1.02863427e-01 -1.39960534e+00  2.49283418e-01 -9.98614229e-01\n",
      "  6.45945663e-02  8.96526331e-01  1.04045053e+00 -3.18094045e-01\n",
      "  1.89401252e+00  3.13342164e-01 -4.27909038e-01  5.50442717e-01\n",
      "  1.49551720e+00 -4.13766198e-01  1.62529856e+00  7.24316456e-01\n",
      "  2.13444080e+00  2.64258190e-01  2.66521326e+00 -2.11506666e+00\n",
      " -1.77314270e+00  8.82383491e-01  1.62862628e+00  2.65922053e-01\n",
      " -1.01791787e-01  5.34636013e-01  1.08787064e+00  1.19851756e+00\n",
      " -1.19994172e+00 -1.19661399e+00  2.69349894e+00  6.61089641e-01\n",
      " -1.06683263e+00 -7.17421292e-01 -6.18590619e-02 -1.52023544e+00\n",
      "  6.76896345e-01  3.76336319e+00 -5.87639937e-01 -2.21573040e+00\n",
      " -5.17757669e-01  2.18501943e-01 -1.25152148e+00  2.81728757e-01\n",
      " -1.96282314e+00 -1.28812648e+00 -7.02446520e-01 -1.11674854e+00\n",
      " -1.45284897e+00 -6.10934026e-01 -5.40219826e-01  1.22929904e+00\n",
      "  2.22595329e+00  2.24425579e+00  1.12780336e+00  1.60366833e+00\n",
      "  2.36072624e+00  6.63585437e-01  8.63249060e-01 -5.51034939e-01\n",
      " -1.26732819e+00 -1.86548713e+00  1.64426378e-01  2.28086079e+00\n",
      " -7.75656516e-01  1.07289586e+00  1.66190355e+00 -1.23321899e+00\n",
      " -1.74152929e+00  1.14510472e-01 -1.66249578e+00 -1.18829467e+00\n",
      "  5.82056124e-01  6.13669531e-01  1.26174438e+00  9.08173375e-01\n",
      " -6.84144022e-01 -1.34636171e+00 -2.26581551e-01  3.04190914e-01\n",
      "  1.87820581e+00  3.08617073e+00 -1.07764775e+00  2.56038986e+00\n",
      " -2.02604996e+00  1.94375922e-01  1.97803762e+00  1.27755108e+00\n",
      "  1.35658460e+00  2.39067578e+00  9.99685870e-01  9.46442237e-01\n",
      " -1.18430422e-01  5.66249420e-01  6.29476234e-01 -3.50539384e-01\n",
      "  6.45282938e-01 -1.99859621e+00 -1.67830248e+00 -1.15002581e+00\n",
      " -9.17084916e-01 -1.10926115e+00 -1.73237804e+00  1.76073423e-01\n",
      "  3.92375682e-01  8.19156677e-01 -1.89959633e+00  2.03627285e+00\n",
      " -1.61590760e+00 -1.06849650e+00  1.85990331e+00 -1.44952124e+00\n",
      " -2.13669688e+00 -4.35565631e-02  1.10367734e+00 -2.27895721e+00\n",
      " -2.52540642e-02 -1.12340399e+00  1.54876083e+00 -4.09606539e-01\n",
      "  1.43894584e+00 -7.61513676e-01  2.34308646e-01 -1.48945397e+00\n",
      " -2.81489048e-01  6.80224072e-01 -1.64918487e+00 -8.30564012e-01\n",
      "  5.42123399e-01 -6.19253344e-01  2.06123080e+00 -5.34396304e-01\n",
      "  4.97199084e-01  1.98802081e+00 -1.69910077e+00 -1.69078146e+00\n",
      " -7.39051518e-01  6.30308166e-01  1.07955132e+00  2.37237328e+00\n",
      " -2.44884050e-01  1.55275129e-01  1.51465163e+00 -1.03189150e+00\n",
      "  9.45610305e-01 -8.17253104e-01  1.57770924e-01  2.47619554e-01\n",
      " -2.84816775e-01 -1.20410137e+00  2.85888416e-01  2.82993575e+00\n",
      "  1.82329832e+00 -1.98195757e+00  9.79719507e-01  1.53045834e+00\n",
      "  2.67585917e-01  4.55602496e-01  9.78718369e-02  9.13996898e-01\n",
      "  1.45724834e+00 -9.00446280e-01  3.14174096e-01 -3.36396544e-01\n",
      " -1.64668907e+00  1.43561811e+00 -1.83636952e+00 -6.66673455e-01\n",
      "  9.77223712e-01  7.87543270e-01 -1.10510149e+00  2.84324666e+00]\n",
      "============================================================\n",
      "============================================================\n",
      "Printing column name:\n",
      "2\n",
      "\\/\\/\n",
      "\n",
      "Printing column unique values:\n",
      "[-0.91749963  0.7436053  -0.08694717  1.57415776  2.40471023  3.2352627 ]\n",
      "============================================================\n",
      "============================================================\n",
      "Printing column name:\n",
      "3\n",
      "\\/\\/\n",
      "\n",
      "Printing column unique values:\n",
      "[-0.99106682  1.0090137 ]\n",
      "============================================================\n",
      "============================================================\n",
      "Printing column name:\n",
      "4\n",
      "\\/\\/\n",
      "\n",
      "Printing column unique values:\n",
      "[ 0.99106682 -1.0090137 ]\n",
      "============================================================\n",
      "============================================================\n",
      "Printing column name:\n",
      "5\n",
      "\\/\\/\n",
      "\n",
      "Printing column unique values:\n",
      "[ 0.50839872 -1.9669601 ]\n",
      "============================================================\n",
      "============================================================\n",
      "Printing column name:\n",
      "6\n",
      "\\/\\/\n",
      "\n",
      "Printing column unique values:\n",
      "[-0.50839872  1.9669601 ]\n",
      "============================================================\n",
      "============================================================\n",
      "Printing column name:\n",
      "7\n",
      "\\/\\/\n",
      "\n",
      "Printing column unique values:\n",
      "[-0.57773402  1.73090033]\n",
      "============================================================\n",
      "============================================================\n",
      "Printing column name:\n",
      "8\n",
      "\\/\\/\n",
      "\n",
      "Printing column unique values:\n",
      "[ 1.75420517 -0.57005875]\n",
      "============================================================\n",
      "============================================================\n",
      "Printing column name:\n",
      "9\n",
      "\\/\\/\n",
      "\n",
      "Printing column unique values:\n",
      "[-0.59001549  1.69487075]\n",
      "============================================================\n",
      "============================================================\n",
      "Printing column name:\n",
      "10\n",
      "\\/\\/\n",
      "\n",
      "Printing column unique values:\n",
      "[-0.57159389  1.74949385]\n",
      "============================================================\n",
      "============================================================\n"
     ]
    }
   ],
   "source": [
    "for i in X_train.columns:\n",
    "    print('Printing column name:')\n",
    "    print(i)\n",
    "    print('\\/\\/\\n')\n",
    "    print('Printing column unique values:')\n",
    "    print(X_train[i].unique())\n",
    "    print('============'*5)\n",
    "    print('============'*5)"
   ]
  },
  {
   "cell_type": "code",
   "execution_count": 24,
   "metadata": {},
   "outputs": [],
   "source": [
    "import numpy as np\n",
    "import pandas as pd\n",
    "import matplotlib.pyplot as plt \n",
    "import seaborn as sns\n",
    "# Modelling\n",
    "from sklearn.metrics import mean_squared_error, r2_score\n",
    "from sklearn.neighbors import KNeighborsRegressor\n",
    "from sklearn.tree import DecisionTreeRegressor\n",
    "from sklearn.ensemble import RandomForestRegressor,AdaBoostRegressor\n",
    "from sklearn.svm import SVR\n",
    "from sklearn.linear_model import LinearRegression, Ridge,Lasso\n",
    "from sklearn.metrics import r2_score, mean_absolute_error, mean_squared_error\n",
    "from sklearn.model_selection import RandomizedSearchCV\n",
    "from catboost import CatBoostRegressor\n",
    "from xgboost import XGBRegressor\n",
    "import warnings"
   ]
  },
  {
   "cell_type": "code",
   "execution_count": 25,
   "metadata": {},
   "outputs": [],
   "source": [
    "def evaluate_model(true, predicted):\n",
    "    mae = mean_absolute_error(true, predicted)\n",
    "    mse = mean_squared_error(true, predicted)\n",
    "    rmse = np.sqrt(mean_squared_error(true, predicted))\n",
    "    r2_square = r2_score(true, predicted)\n",
    "    return mae, rmse, r2_square"
   ]
  },
  {
   "cell_type": "code",
   "execution_count": null,
   "metadata": {},
   "outputs": [],
   "source": []
  },
  {
   "cell_type": "code",
   "execution_count": 26,
   "metadata": {},
   "outputs": [
    {
     "name": "stdout",
     "output_type": "stream",
     "text": [
      "Linear Regression\n",
      "Model performance for Training set\n",
      "- Root Mean Squared Error: 6087.5329\n",
      "- Mean Absolute Error: 4189.1030\n",
      "- R2 Score: 0.7446\n",
      "----------------------------------\n",
      "Model performance for Test set\n",
      "- Root Mean Squared Error: 5921.2757\n",
      "- Mean Absolute Error: 4235.8932\n",
      "- R2 Score: 0.7676\n",
      "==================================================\n",
      "\n",
      "\n",
      "Lasso\n",
      "Model performance for Training set\n",
      "- Root Mean Squared Error: 6083.1333\n",
      "- Mean Absolute Error: 4182.9940\n",
      "- R2 Score: 0.7450\n",
      "----------------------------------\n",
      "Model performance for Test set\n",
      "- Root Mean Squared Error: 5926.1288\n",
      "- Mean Absolute Error: 4243.6301\n",
      "- R2 Score: 0.7673\n",
      "==================================================\n",
      "\n",
      "\n",
      "Ridge\n",
      "Model performance for Training set\n",
      "- Root Mean Squared Error: 6083.1359\n",
      "- Mean Absolute Error: 4183.4797\n",
      "- R2 Score: 0.7450\n",
      "----------------------------------\n",
      "Model performance for Test set\n",
      "- Root Mean Squared Error: 5926.2177\n",
      "- Mean Absolute Error: 4244.1500\n",
      "- R2 Score: 0.7672\n",
      "==================================================\n",
      "\n",
      "\n",
      "K-Neighbors Regressor\n",
      "Model performance for Training set\n",
      "- Root Mean Squared Error: 4543.1863\n",
      "- Mean Absolute Error: 2739.4164\n",
      "- R2 Score: 0.8577\n",
      "----------------------------------\n",
      "Model performance for Test set\n",
      "- Root Mean Squared Error: 5545.8482\n",
      "- Mean Absolute Error: 3502.1669\n",
      "- R2 Score: 0.7962\n",
      "==================================================\n",
      "\n",
      "\n",
      "Decision Tree\n",
      "Model performance for Training set\n",
      "- Root Mean Squared Error: 427.3736\n",
      "- Mean Absolute Error: 19.0841\n",
      "- R2 Score: 0.9987\n",
      "----------------------------------\n",
      "Model performance for Test set\n",
      "- Root Mean Squared Error: 6048.3792\n",
      "- Mean Absolute Error: 2712.6008\n",
      "- R2 Score: 0.7576\n",
      "==================================================\n",
      "\n",
      "\n"
     ]
    },
    {
     "name": "stderr",
     "output_type": "stream",
     "text": [
      "/home/anonymous/PycharmProjects/MLOps_heart_disease/sommy/lib/python3.9/site-packages/sklearn/base.py:1151: DataConversionWarning: A column-vector y was passed when a 1d array was expected. Please change the shape of y to (n_samples,), for example using ravel().\n",
      "  return fit_method(estimator, *args, **kwargs)\n"
     ]
    },
    {
     "name": "stdout",
     "output_type": "stream",
     "text": [
      "Random Forest Regressor\n",
      "Model performance for Training set\n",
      "- Root Mean Squared Error: 1842.7497\n",
      "- Mean Absolute Error: 1023.7812\n",
      "- R2 Score: 0.9766\n",
      "----------------------------------\n",
      "Model performance for Test set\n",
      "- Root Mean Squared Error: 4798.5212\n",
      "- Mean Absolute Error: 2613.8424\n",
      "- R2 Score: 0.8474\n",
      "==================================================\n",
      "\n",
      "\n",
      "XGBRegressor\n",
      "Model performance for Training set\n",
      "- Root Mean Squared Error: 808.0588\n",
      "- Mean Absolute Error: 426.7293\n",
      "- R2 Score: 0.9955\n",
      "----------------------------------\n",
      "Model performance for Test set\n",
      "- Root Mean Squared Error: 4963.1004\n",
      "- Mean Absolute Error: 2805.3551\n",
      "- R2 Score: 0.8368\n",
      "==================================================\n",
      "\n",
      "\n"
     ]
    },
    {
     "name": "stderr",
     "output_type": "stream",
     "text": [
      "/home/anonymous/PycharmProjects/MLOps_heart_disease/sommy/lib/python3.9/site-packages/xgboost/data.py:335: FutureWarning: is_sparse is deprecated and will be removed in a future version. Check `isinstance(dtype, pd.SparseDtype)` instead.\n",
      "  if is_sparse(dtype):\n",
      "/home/anonymous/PycharmProjects/MLOps_heart_disease/sommy/lib/python3.9/site-packages/xgboost/data.py:338: FutureWarning: is_categorical_dtype is deprecated and will be removed in a future version. Use isinstance(dtype, CategoricalDtype) instead\n",
      "  is_categorical_dtype(dtype) or is_pa_ext_categorical_dtype(dtype)\n",
      "/home/anonymous/PycharmProjects/MLOps_heart_disease/sommy/lib/python3.9/site-packages/xgboost/data.py:384: FutureWarning: is_categorical_dtype is deprecated and will be removed in a future version. Use isinstance(dtype, CategoricalDtype) instead\n",
      "  if is_categorical_dtype(dtype):\n",
      "/home/anonymous/PycharmProjects/MLOps_heart_disease/sommy/lib/python3.9/site-packages/xgboost/data.py:359: FutureWarning: is_categorical_dtype is deprecated and will be removed in a future version. Use isinstance(dtype, CategoricalDtype) instead\n",
      "  return is_int or is_bool or is_float or is_categorical_dtype(dtype)\n",
      "/home/anonymous/PycharmProjects/MLOps_heart_disease/sommy/lib/python3.9/site-packages/xgboost/data.py:384: FutureWarning: is_categorical_dtype is deprecated and will be removed in a future version. Use isinstance(dtype, CategoricalDtype) instead\n",
      "  if is_categorical_dtype(dtype):\n",
      "/home/anonymous/PycharmProjects/MLOps_heart_disease/sommy/lib/python3.9/site-packages/xgboost/data.py:359: FutureWarning: is_categorical_dtype is deprecated and will be removed in a future version. Use isinstance(dtype, CategoricalDtype) instead\n",
      "  return is_int or is_bool or is_float or is_categorical_dtype(dtype)\n",
      "/home/anonymous/PycharmProjects/MLOps_heart_disease/sommy/lib/python3.9/site-packages/xgboost/data.py:384: FutureWarning: is_categorical_dtype is deprecated and will be removed in a future version. Use isinstance(dtype, CategoricalDtype) instead\n",
      "  if is_categorical_dtype(dtype):\n",
      "/home/anonymous/PycharmProjects/MLOps_heart_disease/sommy/lib/python3.9/site-packages/xgboost/data.py:359: FutureWarning: is_categorical_dtype is deprecated and will be removed in a future version. Use isinstance(dtype, CategoricalDtype) instead\n",
      "  return is_int or is_bool or is_float or is_categorical_dtype(dtype)\n",
      "/home/anonymous/PycharmProjects/MLOps_heart_disease/sommy/lib/python3.9/site-packages/xgboost/data.py:384: FutureWarning: is_categorical_dtype is deprecated and will be removed in a future version. Use isinstance(dtype, CategoricalDtype) instead\n",
      "  if is_categorical_dtype(dtype):\n",
      "/home/anonymous/PycharmProjects/MLOps_heart_disease/sommy/lib/python3.9/site-packages/xgboost/data.py:359: FutureWarning: is_categorical_dtype is deprecated and will be removed in a future version. Use isinstance(dtype, CategoricalDtype) instead\n",
      "  return is_int or is_bool or is_float or is_categorical_dtype(dtype)\n",
      "/home/anonymous/PycharmProjects/MLOps_heart_disease/sommy/lib/python3.9/site-packages/xgboost/data.py:384: FutureWarning: is_categorical_dtype is deprecated and will be removed in a future version. Use isinstance(dtype, CategoricalDtype) instead\n",
      "  if is_categorical_dtype(dtype):\n",
      "/home/anonymous/PycharmProjects/MLOps_heart_disease/sommy/lib/python3.9/site-packages/xgboost/data.py:359: FutureWarning: is_categorical_dtype is deprecated and will be removed in a future version. Use isinstance(dtype, CategoricalDtype) instead\n",
      "  return is_int or is_bool or is_float or is_categorical_dtype(dtype)\n",
      "/home/anonymous/PycharmProjects/MLOps_heart_disease/sommy/lib/python3.9/site-packages/xgboost/data.py:335: FutureWarning: is_sparse is deprecated and will be removed in a future version. Check `isinstance(dtype, pd.SparseDtype)` instead.\n",
      "  if is_sparse(dtype):\n",
      "/home/anonymous/PycharmProjects/MLOps_heart_disease/sommy/lib/python3.9/site-packages/xgboost/data.py:338: FutureWarning: is_categorical_dtype is deprecated and will be removed in a future version. Use isinstance(dtype, CategoricalDtype) instead\n",
      "  is_categorical_dtype(dtype) or is_pa_ext_categorical_dtype(dtype)\n",
      "/home/anonymous/PycharmProjects/MLOps_heart_disease/sommy/lib/python3.9/site-packages/xgboost/data.py:384: FutureWarning: is_categorical_dtype is deprecated and will be removed in a future version. Use isinstance(dtype, CategoricalDtype) instead\n",
      "  if is_categorical_dtype(dtype):\n",
      "/home/anonymous/PycharmProjects/MLOps_heart_disease/sommy/lib/python3.9/site-packages/xgboost/data.py:359: FutureWarning: is_categorical_dtype is deprecated and will be removed in a future version. Use isinstance(dtype, CategoricalDtype) instead\n",
      "  return is_int or is_bool or is_float or is_categorical_dtype(dtype)\n",
      "/home/anonymous/PycharmProjects/MLOps_heart_disease/sommy/lib/python3.9/site-packages/xgboost/data.py:335: FutureWarning: is_sparse is deprecated and will be removed in a future version. Check `isinstance(dtype, pd.SparseDtype)` instead.\n",
      "  if is_sparse(dtype):\n",
      "/home/anonymous/PycharmProjects/MLOps_heart_disease/sommy/lib/python3.9/site-packages/xgboost/data.py:338: FutureWarning: is_categorical_dtype is deprecated and will be removed in a future version. Use isinstance(dtype, CategoricalDtype) instead\n",
      "  is_categorical_dtype(dtype) or is_pa_ext_categorical_dtype(dtype)\n",
      "/home/anonymous/PycharmProjects/MLOps_heart_disease/sommy/lib/python3.9/site-packages/xgboost/data.py:384: FutureWarning: is_categorical_dtype is deprecated and will be removed in a future version. Use isinstance(dtype, CategoricalDtype) instead\n",
      "  if is_categorical_dtype(dtype):\n",
      "/home/anonymous/PycharmProjects/MLOps_heart_disease/sommy/lib/python3.9/site-packages/xgboost/data.py:359: FutureWarning: is_categorical_dtype is deprecated and will be removed in a future version. Use isinstance(dtype, CategoricalDtype) instead\n",
      "  return is_int or is_bool or is_float or is_categorical_dtype(dtype)\n"
     ]
    },
    {
     "name": "stdout",
     "output_type": "stream",
     "text": [
      "CatBoosting Regressor\n",
      "Model performance for Training set\n",
      "- Root Mean Squared Error: 2538.7636\n",
      "- Mean Absolute Error: 1419.8889\n",
      "- R2 Score: 0.9556\n",
      "----------------------------------\n",
      "Model performance for Test set\n",
      "- Root Mean Squared Error: 4678.7264\n",
      "- Mean Absolute Error: 2583.4480\n",
      "- R2 Score: 0.8549\n",
      "==================================================\n",
      "\n",
      "\n",
      "AdaBoost Regressor\n",
      "Model performance for Training set\n",
      "- Root Mean Squared Error: 4806.1990\n",
      "- Mean Absolute Error: 3797.5834\n",
      "- R2 Score: 0.8408\n",
      "----------------------------------\n",
      "Model performance for Test set\n",
      "- Root Mean Squared Error: 5202.8901\n",
      "- Mean Absolute Error: 4138.3418\n",
      "- R2 Score: 0.8206\n",
      "==================================================\n",
      "\n",
      "\n"
     ]
    },
    {
     "name": "stderr",
     "output_type": "stream",
     "text": [
      "/home/anonymous/PycharmProjects/MLOps_heart_disease/sommy/lib/python3.9/site-packages/sklearn/utils/validation.py:1184: DataConversionWarning: A column-vector y was passed when a 1d array was expected. Please change the shape of y to (n_samples, ), for example using ravel().\n",
      "  y = column_or_1d(y, warn=True)\n"
     ]
    }
   ],
   "source": [
    "models = {\n",
    "    \"Linear Regression\": LinearRegression(),\n",
    "    \"Lasso\": Lasso(),\n",
    "    \"Ridge\": Ridge(),\n",
    "    \"K-Neighbors Regressor\": KNeighborsRegressor(),\n",
    "    \"Decision Tree\": DecisionTreeRegressor(),\n",
    "    \"Random Forest Regressor\": RandomForestRegressor(),\n",
    "    \"XGBRegressor\": XGBRegressor(), \n",
    "    \"CatBoosting Regressor\": CatBoostRegressor(verbose=False),\n",
    "    \"AdaBoost Regressor\": AdaBoostRegressor()\n",
    "}\n",
    "model_list = []\n",
    "r2_list =[]\n",
    "\n",
    "for i in range(len(list(models))):\n",
    "    model = list(models.values())[i]\n",
    "    model.fit(X_train, y_train) # Train model\n",
    "\n",
    "    # Make predictions\n",
    "    y_train_pred = model.predict(X_train)\n",
    "    y_test_pred = model.predict(X_test)\n",
    "    \n",
    "    # Evaluate Train and Test dataset\n",
    "    model_train_mae , model_train_rmse, model_train_r2 = evaluate_model(y_train, y_train_pred)\n",
    "\n",
    "    model_test_mae , model_test_rmse, model_test_r2 = evaluate_model(y_test, y_test_pred)\n",
    "\n",
    "    \n",
    "    print(list(models.keys())[i])\n",
    "    model_list.append(list(models.keys())[i])\n",
    "    \n",
    "    print('Model performance for Training set')\n",
    "    print(\"- Root Mean Squared Error: {:.4f}\".format(model_train_rmse))\n",
    "    print(\"- Mean Absolute Error: {:.4f}\".format(model_train_mae))\n",
    "    print(\"- R2 Score: {:.4f}\".format(model_train_r2))\n",
    "\n",
    "    print('----------------------------------')\n",
    "    \n",
    "    print('Model performance for Test set')\n",
    "    print(\"- Root Mean Squared Error: {:.4f}\".format(model_test_rmse))\n",
    "    print(\"- Mean Absolute Error: {:.4f}\".format(model_test_mae))\n",
    "    print(\"- R2 Score: {:.4f}\".format(model_test_r2))\n",
    "    r2_list.append(model_test_r2)\n",
    "    \n",
    "    print('='*50)\n",
    "    print('\\n')"
   ]
  },
  {
   "cell_type": "code",
   "execution_count": 27,
   "metadata": {},
   "outputs": [
    {
     "data": {
      "text/html": [
       "<div>\n",
       "<style scoped>\n",
       "    .dataframe tbody tr th:only-of-type {\n",
       "        vertical-align: middle;\n",
       "    }\n",
       "\n",
       "    .dataframe tbody tr th {\n",
       "        vertical-align: top;\n",
       "    }\n",
       "\n",
       "    .dataframe thead th {\n",
       "        text-align: right;\n",
       "    }\n",
       "</style>\n",
       "<table border=\"1\" class=\"dataframe\">\n",
       "  <thead>\n",
       "    <tr style=\"text-align: right;\">\n",
       "      <th></th>\n",
       "      <th>Model Name</th>\n",
       "      <th>R2_Score</th>\n",
       "    </tr>\n",
       "  </thead>\n",
       "  <tbody>\n",
       "    <tr>\n",
       "      <th>7</th>\n",
       "      <td>CatBoosting Regressor</td>\n",
       "      <td>0.854925</td>\n",
       "    </tr>\n",
       "    <tr>\n",
       "      <th>5</th>\n",
       "      <td>Random Forest Regressor</td>\n",
       "      <td>0.847401</td>\n",
       "    </tr>\n",
       "    <tr>\n",
       "      <th>6</th>\n",
       "      <td>XGBRegressor</td>\n",
       "      <td>0.836754</td>\n",
       "    </tr>\n",
       "    <tr>\n",
       "      <th>8</th>\n",
       "      <td>AdaBoost Regressor</td>\n",
       "      <td>0.820599</td>\n",
       "    </tr>\n",
       "    <tr>\n",
       "      <th>3</th>\n",
       "      <td>K-Neighbors Regressor</td>\n",
       "      <td>0.796168</td>\n",
       "    </tr>\n",
       "    <tr>\n",
       "      <th>0</th>\n",
       "      <td>Linear Regression</td>\n",
       "      <td>0.767637</td>\n",
       "    </tr>\n",
       "    <tr>\n",
       "      <th>1</th>\n",
       "      <td>Lasso</td>\n",
       "      <td>0.767256</td>\n",
       "    </tr>\n",
       "    <tr>\n",
       "      <th>2</th>\n",
       "      <td>Ridge</td>\n",
       "      <td>0.767249</td>\n",
       "    </tr>\n",
       "    <tr>\n",
       "      <th>4</th>\n",
       "      <td>Decision Tree</td>\n",
       "      <td>0.757554</td>\n",
       "    </tr>\n",
       "  </tbody>\n",
       "</table>\n",
       "</div>"
      ],
      "text/plain": [
       "                Model Name  R2_Score\n",
       "7    CatBoosting Regressor  0.854925\n",
       "5  Random Forest Regressor  0.847401\n",
       "6             XGBRegressor  0.836754\n",
       "8       AdaBoost Regressor  0.820599\n",
       "3    K-Neighbors Regressor  0.796168\n",
       "0        Linear Regression  0.767637\n",
       "1                    Lasso  0.767256\n",
       "2                    Ridge  0.767249\n",
       "4            Decision Tree  0.757554"
      ]
     },
     "execution_count": 27,
     "metadata": {},
     "output_type": "execute_result"
    }
   ],
   "source": [
    "pd.DataFrame(list(zip(model_list, r2_list)), columns=['Model Name', 'R2_Score']).sort_values(by=[\"R2_Score\"],ascending=False)"
   ]
  },
  {
   "cell_type": "code",
   "execution_count": 30,
   "metadata": {},
   "outputs": [
    {
     "name": "stdout",
     "output_type": "stream",
     "text": [
      " Accuracy of the model is 78.41\n"
     ]
    }
   ],
   "source": [
    "lin_model = LinearRegression(fit_intercept=True)\n",
    "lin_model = lin_model.fit(X_train, y_train)\n",
    "y_pred = lin_model.predict(X_test)\n",
    "score = r2_score(y_test, y_pred)*100\n",
    "print(\" Accuracy of the model is %.2f\" %score)"
   ]
  },
  {
   "cell_type": "code",
   "execution_count": 31,
   "metadata": {},
   "outputs": [
    {
     "data": {
      "image/png": "[encoded data removed]",
      "text/plain": [
       "<Figure size 640x480 with 1 Axes>"
      ]
     },
     "metadata": {},
     "output_type": "display_data"
    }
   ],
   "source": [
    "plt.scatter(y_test,y_pred);\n",
    "plt.xlabel('Actual');\n",
    "plt.ylabel('Predicted');"
   ]
  },
  {
   "cell_type": "code",
   "execution_count": 32,
   "metadata": {},
   "outputs": [
    {
     "data": {
      "image/png": "[encoded data removed]",
      "text/plain": [
       "<Figure size 640x480 with 1 Axes>"
      ]
     },
     "metadata": {},
     "output_type": "display_data"
    }
   ],
   "source": [
    "sns.regplot(x=y_test,y=y_pred,ci=None,color ='red');"
   ]
  },
  {
   "cell_type": "code",
   "execution_count": 33,
   "metadata": {},
   "outputs": [
    {
     "ename": "ValueError",
     "evalue": "Per-column arrays must each be 1-dimensional",
     "output_type": "error",
     "traceback": [
      "\u001b[0;31m---------------------------------------------------------------------------\u001b[0m",
      "\u001b[0;31mValueError\u001b[0m                                Traceback (most recent call last)",
      "Cell \u001b[0;32mIn[33], line 1\u001b[0m\n\u001b[0;32m----> 1\u001b[0m pred_df\u001b[39m=\u001b[39mpd\u001b[39m.\u001b[39;49mDataFrame({\u001b[39m'\u001b[39;49m\u001b[39mActual Value\u001b[39;49m\u001b[39m'\u001b[39;49m:y_test,\u001b[39m'\u001b[39;49m\u001b[39mPredicted Value\u001b[39;49m\u001b[39m'\u001b[39;49m:y_pred,\u001b[39m'\u001b[39;49m\u001b[39mDifference\u001b[39;49m\u001b[39m'\u001b[39;49m:y_test\u001b[39m-\u001b[39;49my_pred})\n\u001b[1;32m      2\u001b[0m pred_df\n",
      "File \u001b[0;32m~/PycharmProjects/MLOps_heart_disease/sommy/lib/python3.9/site-packages/pandas/core/frame.py:736\u001b[0m, in \u001b[0;36mDataFrame.__init__\u001b[0;34m(self, data, index, columns, dtype, copy)\u001b[0m\n\u001b[1;32m    730\u001b[0m     mgr \u001b[39m=\u001b[39m \u001b[39mself\u001b[39m\u001b[39m.\u001b[39m_init_mgr(\n\u001b[1;32m    731\u001b[0m         data, axes\u001b[39m=\u001b[39m{\u001b[39m\"\u001b[39m\u001b[39mindex\u001b[39m\u001b[39m\"\u001b[39m: index, \u001b[39m\"\u001b[39m\u001b[39mcolumns\u001b[39m\u001b[39m\"\u001b[39m: columns}, dtype\u001b[39m=\u001b[39mdtype, copy\u001b[39m=\u001b[39mcopy\n\u001b[1;32m    732\u001b[0m     )\n\u001b[1;32m    734\u001b[0m \u001b[39melif\u001b[39;00m \u001b[39misinstance\u001b[39m(data, \u001b[39mdict\u001b[39m):\n\u001b[1;32m    735\u001b[0m     \u001b[39m# GH#38939 de facto copy defaults to False only in non-dict cases\u001b[39;00m\n\u001b[0;32m--> 736\u001b[0m     mgr \u001b[39m=\u001b[39m dict_to_mgr(data, index, columns, dtype\u001b[39m=\u001b[39;49mdtype, copy\u001b[39m=\u001b[39;49mcopy, typ\u001b[39m=\u001b[39;49mmanager)\n\u001b[1;32m    737\u001b[0m \u001b[39melif\u001b[39;00m \u001b[39misinstance\u001b[39m(data, ma\u001b[39m.\u001b[39mMaskedArray):\n\u001b[1;32m    738\u001b[0m     \u001b[39mfrom\u001b[39;00m \u001b[39mnumpy\u001b[39;00m\u001b[39m.\u001b[39;00m\u001b[39mma\u001b[39;00m \u001b[39mimport\u001b[39;00m mrecords\n",
      "File \u001b[0;32m~/PycharmProjects/MLOps_heart_disease/sommy/lib/python3.9/site-packages/pandas/core/internals/construction.py:503\u001b[0m, in \u001b[0;36mdict_to_mgr\u001b[0;34m(data, index, columns, dtype, typ, copy)\u001b[0m\n\u001b[1;32m    499\u001b[0m     \u001b[39melse\u001b[39;00m:\n\u001b[1;32m    500\u001b[0m         \u001b[39m# dtype check to exclude e.g. range objects, scalars\u001b[39;00m\n\u001b[1;32m    501\u001b[0m         arrays \u001b[39m=\u001b[39m [x\u001b[39m.\u001b[39mcopy() \u001b[39mif\u001b[39;00m \u001b[39mhasattr\u001b[39m(x, \u001b[39m\"\u001b[39m\u001b[39mdtype\u001b[39m\u001b[39m\"\u001b[39m) \u001b[39melse\u001b[39;00m x \u001b[39mfor\u001b[39;00m x \u001b[39min\u001b[39;00m arrays]\n\u001b[0;32m--> 503\u001b[0m \u001b[39mreturn\u001b[39;00m arrays_to_mgr(arrays, columns, index, dtype\u001b[39m=\u001b[39;49mdtype, typ\u001b[39m=\u001b[39;49mtyp, consolidate\u001b[39m=\u001b[39;49mcopy)\n",
      "File \u001b[0;32m~/PycharmProjects/MLOps_heart_disease/sommy/lib/python3.9/site-packages/pandas/core/internals/construction.py:114\u001b[0m, in \u001b[0;36marrays_to_mgr\u001b[0;34m(arrays, columns, index, dtype, verify_integrity, typ, consolidate)\u001b[0m\n\u001b[1;32m    111\u001b[0m \u001b[39mif\u001b[39;00m verify_integrity:\n\u001b[1;32m    112\u001b[0m     \u001b[39m# figure out the index, if necessary\u001b[39;00m\n\u001b[1;32m    113\u001b[0m     \u001b[39mif\u001b[39;00m index \u001b[39mis\u001b[39;00m \u001b[39mNone\u001b[39;00m:\n\u001b[0;32m--> 114\u001b[0m         index \u001b[39m=\u001b[39m _extract_index(arrays)\n\u001b[1;32m    115\u001b[0m     \u001b[39melse\u001b[39;00m:\n\u001b[1;32m    116\u001b[0m         index \u001b[39m=\u001b[39m ensure_index(index)\n",
      "File \u001b[0;32m~/PycharmProjects/MLOps_heart_disease/sommy/lib/python3.9/site-packages/pandas/core/internals/construction.py:664\u001b[0m, in \u001b[0;36m_extract_index\u001b[0;34m(data)\u001b[0m\n\u001b[1;32m    662\u001b[0m         raw_lengths\u001b[39m.\u001b[39mappend(\u001b[39mlen\u001b[39m(val))\n\u001b[1;32m    663\u001b[0m     \u001b[39melif\u001b[39;00m \u001b[39misinstance\u001b[39m(val, np\u001b[39m.\u001b[39mndarray) \u001b[39mand\u001b[39;00m val\u001b[39m.\u001b[39mndim \u001b[39m>\u001b[39m \u001b[39m1\u001b[39m:\n\u001b[0;32m--> 664\u001b[0m         \u001b[39mraise\u001b[39;00m \u001b[39mValueError\u001b[39;00m(\u001b[39m\"\u001b[39m\u001b[39mPer-column arrays must each be 1-dimensional\u001b[39m\u001b[39m\"\u001b[39m)\n\u001b[1;32m    666\u001b[0m \u001b[39mif\u001b[39;00m \u001b[39mnot\u001b[39;00m indexes \u001b[39mand\u001b[39;00m \u001b[39mnot\u001b[39;00m raw_lengths:\n\u001b[1;32m    667\u001b[0m     \u001b[39mraise\u001b[39;00m \u001b[39mValueError\u001b[39;00m(\u001b[39m\"\u001b[39m\u001b[39mIf using all scalar values, you must pass an index\u001b[39m\u001b[39m\"\u001b[39m)\n",
      "\u001b[0;31mValueError\u001b[0m: Per-column arrays must each be 1-dimensional"
     ]
    }
   ],
   "source": [
    "pred_df=pd.DataFrame({'Actual Value':y_test,'Predicted Value':y_pred,'Difference':y_test-y_pred})\n",
    "pred_df"
   ]
  },
  {
   "cell_type": "code",
   "execution_count": null,
   "metadata": {},
   "outputs": [],
   "source": []
  },
  {
   "cell_type": "code",
   "execution_count": null,
   "metadata": {},
   "outputs": [],
   "source": []
  }
 ],
 "metadata": {
  "kernelspec": {
   "display_name": "env",
   "language": "python",
   "name": "python3"
  },
  "language_info": {
   "codemirror_mode": {
    "name": "ipython",
    "version": 3
   },
   "file_extension": ".py",
   "mimetype": "text/x-python",
   "name": "python",
   "nbconvert_exporter": "python",
   "pygments_lexer": "ipython3",
   "version": "3.9.13"
  },
  "orig_nbformat": 4
 },
 "nbformat": 4,
 "nbformat_minor": 2
}
